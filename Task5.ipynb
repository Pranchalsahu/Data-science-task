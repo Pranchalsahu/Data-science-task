{
 "cells": [
  {
   "cell_type": "code",
   "execution_count": 21,
   "id": "8d3ac187-6782-4bbc-ad27-47b530c49ec8",
   "metadata": {},
   "outputs": [
    {
     "name": "stderr",
     "output_type": "stream",
     "text": [
      "[nltk_data] Downloading package punkt to\n",
      "[nltk_data]     C:\\Users\\pranchal\\AppData\\Roaming\\nltk_data...\n",
      "[nltk_data]   Package punkt is already up-to-date!\n"
     ]
    },
    {
     "name": "stdout",
     "output_type": "stream",
     "text": [
      "This chart is only visible between 5 PM and 7 PM IST.\n"
     ]
    }
   ],
   "source": [
    "import pandas as pd\n",
    "import matplotlib.pyplot as plt\n",
    "from textblob import TextBlob\n",
    "from datetime import datetime\n",
    "import pytz\n",
    "import numpy as np\n",
    "import nltk\n",
    "nltk.download('punkt')\n",
    "\n",
    "# Load your dataset\n",
    "df = pd.read_csv(\"Play Store Data.csv\")\n",
    "\n",
    "# Create sentiment subjectivity from 'App' column (since 'Description' is not available)\n",
    "df['Sentiment_Subjectivity'] = df['App'].astype(str).apply(lambda x: TextBlob(x).sentiment.subjectivity)\n",
    "\n",
    "# Clean 'Size' column\n",
    "def convert_size(size_str):\n",
    "    try:\n",
    "        if 'M' in size_str:\n",
    "            return float(size_str.replace('M', ''))\n",
    "        elif 'k' in size_str:\n",
    "            return float(size_str.replace('k', '')) / 1024\n",
    "        else:\n",
    "            return np.nan\n",
    "    except:\n",
    "        return np.nan\n",
    "\n",
    "df['Size_MB'] = df['Size'].astype(str).apply(convert_size)\n",
    "\n",
    "# Clean 'Installs'\n",
    "df['Installs'] = df['Installs'].astype(str).str.replace(r'[+,]', '', regex=True)\n",
    "df = df[df['Installs'].str.isnumeric()]\n",
    "df['Installs'] = df['Installs'].astype(int)\n",
    "\n",
    "# Clean 'Reviews'\n",
    "df['Reviews'] = pd.to_numeric(df['Reviews'], errors='coerce')\n",
    "\n",
    "# Apply all filters\n",
    "categories_allowed = ['GAME', 'BEAUTY', 'BUSINESS', 'COMICS', 'COMMUNICATION', 'DATING', 'ENTERTAINMENT', 'SOCIAL', 'EVENT']\n",
    "df_filtered = df[\n",
    "    (df['Rating'] > 3.5) &\n",
    "    (df['Category'].str.upper().isin(categories_allowed)) &\n",
    "    (df['Reviews'] > 500) &\n",
    "    (~df['App'].str.contains('s', case=False, na=False)) &\n",
    "    (df['Sentiment_Subjectivity'] > 0.5) &\n",
    "    (df['Installs'] > 50000)\n",
    "].copy()\n",
    "\n",
    "# Translate categories\n",
    "def translate_category(cat):\n",
    "    if cat.upper() == 'BEAUTY':\n",
    "        return 'सौंदर्य'  # Hindi\n",
    "    elif cat.upper() == 'BUSINESS':\n",
    "        return 'வணிகம்'  # Tamil\n",
    "    elif cat.upper() == 'DATING':\n",
    "        return 'Partnersuche'  # German\n",
    "    else:\n",
    "        return cat\n",
    "\n",
    "df_filtered['Category_Translated'] = df_filtered['Category'].apply(translate_category)\n",
    "\n",
    "# Time check\n",
    "now = datetime.now(pytz.timezone('Asia/Kolkata'))\n",
    "if now.hour >= 17 and now.hour < 19:  # 5 PM to 7 PM IST\n",
    "    plt.figure(figsize=(12, 8))\n",
    "    bubble_sizes = df_filtered['Installs'] / 10000\n",
    "\n",
    "    colors = df_filtered['Category'].apply(lambda x: 'pink' if x.upper() == 'GAME' else 'blue')\n",
    "\n",
    "    plt.scatter(\n",
    "        df_filtered['Size_MB'],\n",
    "        df_filtered['Rating'],\n",
    "        s=bubble_sizes,\n",
    "        c=colors,\n",
    "        alpha=0.6,\n",
    "        edgecolors='w',\n",
    "        linewidth=0.5\n",
    "    )\n",
    "\n",
    "    plt.xlabel('App Size (MB)')\n",
    "    plt.ylabel('Average Rating')\n",
    "    plt.title('Bubble Chart: Size vs Rating (Bubble Size = Installs)')\n",
    "    plt.grid(True)\n",
    "    plt.show()\n",
    "else:\n",
    "    print(\"This chart is only visible between 5 PM and 7 PM IST.\")\n"
   ]
  },
  {
   "cell_type": "code",
   "execution_count": null,
   "id": "c8573f74-d971-4598-977c-333daf2be01c",
   "metadata": {},
   "outputs": [],
   "source": []
  }
 ],
 "metadata": {
  "kernelspec": {
   "display_name": "Python 3 (ipykernel)",
   "language": "python",
   "name": "python3"
  },
  "language_info": {
   "codemirror_mode": {
    "name": "ipython",
    "version": 3
   },
   "file_extension": ".py",
   "mimetype": "text/x-python",
   "name": "python",
   "nbconvert_exporter": "python",
   "pygments_lexer": "ipython3",
   "version": "3.12.4"
  }
 },
 "nbformat": 4,
 "nbformat_minor": 5
}
